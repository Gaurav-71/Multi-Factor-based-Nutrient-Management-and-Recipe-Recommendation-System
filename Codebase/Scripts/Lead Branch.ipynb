{
 "cells": [
  {
   "cell_type": "code",
   "execution_count": 7,
   "id": "2073d501",
   "metadata": {},
   "outputs": [],
   "source": [
    "#Libraries\n",
    "import numpy as np\n",
    "import pandas as pd\n",
    "import json"
   ]
  },
  {
   "cell_type": "code",
   "execution_count": 2,
   "id": "3c36b55a",
   "metadata": {
    "scrolled": true
   },
   "outputs": [
    {
     "name": "stdout",
     "output_type": "stream",
     "text": [
      "importing Jupyter notebook from RequiredNutrients.ipynb\n",
      "importing Jupyter notebook from IngredientsPrediction.ipynb\n",
      "importing Jupyter notebook from APIForFoodProducts.ipynb\n",
      "importing Jupyter notebook from ParseAPIResponse.ipynb\n"
     ]
    }
   ],
   "source": [
    "#Processor Files\n",
    "import import_ipynb\n",
    "import RequiredNutrients\n",
    "import IngredientsPrediction\n",
    "import APIForFoodProducts\n",
    "import ParseAPIResponse"
   ]
  },
  {
   "cell_type": "code",
   "execution_count": 3,
   "id": "6bdee5dc",
   "metadata": {},
   "outputs": [],
   "source": [
    "nutritionalRequirements = RequiredNutrients.getNutritionalRequirements()\n",
    "ingredients = list(IngredientsPrediction.getIngredients(nutritionalRequirements))\n",
    "while(len(ingredients) < 5):\n",
    "    ingredients = list(IngredientsPrediction.getIngredients(nutritionalRequirements))\n",
    "ingredients = \",+\".join(ingredients)\n",
    "foodProducts = APIForFoodProducts.getSpoonacular(ingredients)\n",
    "foodList = ParseAPIResponse.parseAPIResponse(json.loads(foodProducts))"
   ]
  }
 ],
 "metadata": {
  "kernelspec": {
   "display_name": "Python 3",
   "language": "python",
   "name": "python3"
  },
  "language_info": {
   "codemirror_mode": {
    "name": "ipython",
    "version": 3
   },
   "file_extension": ".py",
   "mimetype": "text/x-python",
   "name": "python",
   "nbconvert_exporter": "python",
   "pygments_lexer": "ipython3",
   "version": "3.9.7"
  }
 },
 "nbformat": 4,
 "nbformat_minor": 5
}
