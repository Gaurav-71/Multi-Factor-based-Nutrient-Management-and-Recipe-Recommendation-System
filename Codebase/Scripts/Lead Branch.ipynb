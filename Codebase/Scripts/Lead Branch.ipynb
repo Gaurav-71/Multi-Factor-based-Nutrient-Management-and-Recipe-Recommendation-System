{
 "cells": [
  {
   "cell_type": "code",
   "execution_count": 1,
   "id": "2073d501",
   "metadata": {},
   "outputs": [],
   "source": [
    "#Libraries\n",
    "import numpy as np\n",
    "import pandas as pd"
   ]
  },
  {
   "cell_type": "code",
   "execution_count": 2,
   "id": "3c36b55a",
   "metadata": {},
   "outputs": [
    {
     "name": "stdout",
     "output_type": "stream",
     "text": [
      "importing Jupyter notebook from RequiredNutrients.ipynb\n",
      "importing Jupyter notebook from IngredientsPrediction.ipynb\n"
     ]
    }
   ],
   "source": [
    "#Processor Files\n",
    "import import_ipynb\n",
    "import RequiredNutrients\n",
    "import IngredientsPrediction"
   ]
  },
  {
   "cell_type": "code",
   "execution_count": 3,
   "id": "fce7e917",
   "metadata": {},
   "outputs": [
    {
     "name": "stdout",
     "output_type": "stream",
     "text": [
      "['Agathi leaves' 'Bathua leaves' 'Brinjal' 'Currants' 'Orange'\n",
      " 'Pak Choi leaves' 'Pummelo' 'Sadaya' 'Strawberry']\n"
     ]
    }
   ],
   "source": [
    "nutritionalRequirements = RequiredNutrients.getNutritionalRequirements()\n",
    "ingredients = IngredientsPrediction.getIngredients(nutritionalRequirements)\n",
    "print(ingredients)"
   ]
  },
  {
   "cell_type": "code",
   "execution_count": null,
   "id": "01b3b9d5",
   "metadata": {},
   "outputs": [],
   "source": []
  }
 ],
 "metadata": {
  "kernelspec": {
   "display_name": "Python 3",
   "language": "python",
   "name": "python3"
  },
  "language_info": {
   "codemirror_mode": {
    "name": "ipython",
    "version": 3
   },
   "file_extension": ".py",
   "mimetype": "text/x-python",
   "name": "python",
   "nbconvert_exporter": "python",
   "pygments_lexer": "ipython3",
   "version": "3.9.7"
  }
 },
 "nbformat": 4,
 "nbformat_minor": 5
}
