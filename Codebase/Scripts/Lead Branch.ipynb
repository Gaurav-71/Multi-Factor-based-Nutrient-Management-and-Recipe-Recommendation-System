{
 "cells": [
  {
   "cell_type": "code",
   "execution_count": 1,
   "id": "2073d501",
   "metadata": {},
   "outputs": [],
   "source": [
    "#Libraries\n",
    "import numpy as np\n",
    "import pandas as pd\n",
    "import json"
   ]
  },
  {
   "cell_type": "code",
   "execution_count": 2,
   "id": "3c36b55a",
   "metadata": {
    "scrolled": true
   },
   "outputs": [
    {
     "name": "stdout",
     "output_type": "stream",
     "text": [
      "importing Jupyter notebook from RequiredNutrients.ipynb\n",
      "importing Jupyter notebook from IngredientsPrediction.ipynb\n",
      "importing Jupyter notebook from APIForFoodProducts.ipynb\n",
      "importing Jupyter notebook from ParseAPIResponse.ipynb\n",
      "importing Jupyter notebook from RankFoodProducts.ipynb\n",
      "importing Jupyter notebook from YouTubeClient.ipynb\n"
     ]
    }
   ],
   "source": [
    "#Processor Files\n",
    "import import_ipynb\n",
    "import RequiredNutrients\n",
    "import IngredientsPrediction\n",
    "import APIForFoodProducts\n",
    "import ParseAPIResponse\n",
    "import RankFoodProducts\n",
    "import YouTubeClient"
   ]
  },
  {
   "cell_type": "code",
   "execution_count": 3,
   "id": "6bdee5dc",
   "metadata": {},
   "outputs": [
    {
     "name": "stdout",
     "output_type": "stream",
     "text": [
      "[{'id': 644045, 'title': 'Fruity Yogurt Parfait', 'imageUrl': 'https://spoonacular.com/recipeImages/644045-312x231.jpg', 'ingedients': 'plain yogurt, orange juice, kiwi, mango, strawberries'}, {'id': 661834, 'title': 'Strawberry Mango Green Tea Limeade', 'imageUrl': 'https://spoonacular.com/recipeImages/661834-312x231.jpg', 'ingedients': 'lime juice, green tea, simple syrup, strawberries, mango'}, {'id': 639600, 'title': 'Classic Fruit Salad with Honey and Lemon', 'imageUrl': 'https://spoonacular.com/recipeImages/639600-312x231.jpg', 'ingedients': 'banana, blueberries, honey, lemon, pineapple, mango, strawberries'}, {'id': 654515, 'title': 'Pandan Smoothie', 'imageUrl': 'https://spoonacular.com/recipeImages/654515-312x231.jpg', 'ingedients': 'diet soda, cucumber, honey, bay leaves, oranges'}, {'id': 650844, 'title': 'Mango-Berry Swirled Smoothies', 'imageUrl': 'https://spoonacular.com/recipeImages/650844-312x231.jpg', 'ingedients': 'blueberries, juice of orange, pomegranate juice, mangoes, strawberries'}, {'id': 661833, 'title': 'Strawberry Mango Crumble', 'imageUrl': 'https://spoonacular.com/recipeImages/661833-312x231.jpg', 'ingedients': 'baking powder, cornstarch, old fashioned oats, unsalted butter, mangos, strawberries'}, {'id': 644020, 'title': 'Fruit Salsa & Cinnamon Chips', 'imageUrl': 'https://spoonacular.com/recipeImages/644020-312x231.jpg', 'ingedients': 'cinnamon, flour tortillas, green apples, jelly, kiwis, lemon juice, mango, orange, strawberries'}, {'id': 633830, 'title': 'Baked Swedish Pancake', 'imageUrl': 'https://spoonacular.com/recipeImages/633830-312x231.jpg', 'ingedients': 'butter, eggs, jam, maple syrup, milk, orange, strawberries'}, {'id': 638125, 'title': 'Chicken In A Pot', 'imageUrl': 'https://spoonacular.com/recipeImages/638125-312x231.jpg', 'ingedients': 'onion, celery, garlic cloves, thyme, lemon juice, whole chicken, bay leaves'}, {'id': 659192, 'title': 'Salt-Crusted Snapper With Blood Orange and Bay', 'imageUrl': 'https://spoonacular.com/recipeImages/659192-312x231.jpg', 'ingedients': 'snapper, egg whites, blood orange, bay leaves'}]\n"
     ]
    }
   ],
   "source": [
    "nutritionalRequirements = RequiredNutrients.getNutritionalRequirements()\n",
    "ingredients = list(IngredientsPrediction.getIngredients(nutritionalRequirements))\n",
    "while(len(ingredients) < 5):\n",
    "    ingredients = list(IngredientsPrediction.getIngredients(nutritionalRequirements))\n",
    "ingredients = \",+\".join(ingredients)\n",
    "foodProducts = APIForFoodProducts.getSpoonacular(ingredients)\n",
    "foodList = ParseAPIResponse.parseAPIResponse(json.loads(foodProducts))\n",
    "rankedFoodList = RankFoodProducts.rankFoodProducts(foodList, nutritionalRequirements)\n",
    "print(rankedFoodList)"
   ]
  },
  {
   "cell_type": "code",
   "execution_count": 4,
   "id": "3f9cd69c",
   "metadata": {},
   "outputs": [
    {
     "name": "stdout",
     "output_type": "stream",
     "text": [
      "['https://www.youtube.com/watch?v=Aehh0rZ-C_M', 'https://www.youtube.com/watch?v=qB4tKybsDD8', 'https://www.youtube.com/watch?v=ncf9njh5Zkk', 'https://www.youtube.com/watch?v=mDQ5NBU6xBs', 'https://www.youtube.com/watch?v=qSfu1YHrxqM', 'https://www.youtube.com/watch?v=4JMO5PGeSvg', 'https://www.youtube.com/watch?v=xWltikCALgU', 'https://www.youtube.com/watch?v=-CKvt1KNU74']\n"
     ]
    }
   ],
   "source": [
    "videoLinks = YouTubeClient.getVideos(rankedFoodList)\n",
    "\n",
    "print(videoLinks)"
   ]
  },
  {
   "cell_type": "code",
   "execution_count": null,
   "id": "eb5d6054",
   "metadata": {},
   "outputs": [],
   "source": []
  }
 ],
 "metadata": {
  "kernelspec": {
   "display_name": "Python 3",
   "language": "python",
   "name": "python3"
  },
  "language_info": {
   "codemirror_mode": {
    "name": "ipython",
    "version": 3
   },
   "file_extension": ".py",
   "mimetype": "text/x-python",
   "name": "python",
   "nbconvert_exporter": "python",
   "pygments_lexer": "ipython3",
   "version": "3.9.7"
  }
 },
 "nbformat": 4,
 "nbformat_minor": 5
}
