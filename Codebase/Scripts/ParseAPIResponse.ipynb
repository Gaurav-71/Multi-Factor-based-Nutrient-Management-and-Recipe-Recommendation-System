{
 "cells": [
  {
   "cell_type": "code",
   "execution_count": 1,
   "id": "595a1344",
   "metadata": {},
   "outputs": [],
   "source": [
    "import numpy as np\n",
    "import pandas as pd"
   ]
  },
  {
   "cell_type": "code",
   "execution_count": 2,
   "id": "82e63c44",
   "metadata": {},
   "outputs": [],
   "source": [
    "def parseAPIResponse(response):\n",
    "    foodProducts = []\n",
    "    for food in response:\n",
    "        obj = {}\n",
    "        ingredientList = []\n",
    "        obj[\"id\"] = food[\"id\"]\n",
    "        obj[\"title\"] = food[\"title\"]\n",
    "        obj[\"imageUrl\"] = food[\"image\"]\n",
    "        for missedIngredients in food[\"missedIngredients\"]:\n",
    "            name = missedIngredients[\"name\"]\n",
    "            ingredientList.append(name)\n",
    "        for usedIngredients in food[\"usedIngredients\"]:\n",
    "            name = usedIngredients[\"name\"]\n",
    "            ingredientList.append(name)\n",
    "        ingredientList = \", \".join(ingredientList)\n",
    "        obj[\"ingedients\"] = ingredientList\n",
    "        \n",
    "        foodProducts.append(obj)\n",
    "    \n",
    "    return foodProducts"
   ]
  },
  {
   "cell_type": "code",
   "execution_count": null,
   "id": "360f2834",
   "metadata": {},
   "outputs": [],
   "source": [
    "def parseAPIResponseForNutrient(response):\n",
    "    foodProducts = []\n",
    "    for food in response:\n",
    "        obj = {}\n",
    "        ingredientList = []\n",
    "        obj[\"id\"] = food[\"id\"]\n",
    "        obj[\"title\"] = food[\"title\"]\n",
    "        obj[\"imageUrl\"] = food[\"image\"]\n",
    "        foodProducts.append(obj)\n",
    "\n",
    "    return foodProducts"
   ]
  }
 ],
 "metadata": {
  "kernelspec": {
   "display_name": "Python 3",
   "language": "python",
   "name": "python3"
  },
  "language_info": {
   "codemirror_mode": {
    "name": "ipython",
    "version": 3
   },
   "file_extension": ".py",
   "mimetype": "text/x-python",
   "name": "python",
   "nbconvert_exporter": "python",
   "pygments_lexer": "ipython3",
   "version": "3.9.7"
  }
 },
 "nbformat": 4,
 "nbformat_minor": 5
}
