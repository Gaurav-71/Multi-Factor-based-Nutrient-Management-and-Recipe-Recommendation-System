{
 "cells": [
  {
   "cell_type": "code",
   "execution_count": 1,
   "id": "0afe28a1",
   "metadata": {},
   "outputs": [],
   "source": [
    "import pandas as pd\n",
    "import numpy as np\n",
    "from selenium import webdriver\n",
    "from selenium.webdriver.chrome.options import Options"
   ]
  },
  {
   "cell_type": "code",
   "execution_count": 2,
   "id": "eab41211",
   "metadata": {},
   "outputs": [],
   "source": [
    "def roundOff(n):\n",
    "    n = float(n)\n",
    "    n = round(n, ndigits = 4)\n",
    "    return n"
   ]
  },
  {
   "cell_type": "code",
   "execution_count": 3,
   "id": "28b21540",
   "metadata": {},
   "outputs": [],
   "source": [
    "def getNutrientValue(term, position, nutrients, values, nutritionalRequirements):\n",
    "    value = None\n",
    "    try:\n",
    "        ind = nutrients.index(term)\n",
    "        value = values[ind]\n",
    "    except ValueError:\n",
    "        value = nutritionalRequirements[position]\n",
    "    \n",
    "    return value"
   ]
  },
  {
   "cell_type": "code",
   "execution_count": 4,
   "id": "7c7950f2",
   "metadata": {},
   "outputs": [],
   "source": [
    "def calculateDistance(nutrients, values, nutritionalRequirements):\n",
    "    foodVector = []\n",
    "    \n",
    "    foodVector.append(getNutrientValue(\"protein\", 0, nutrients, values, nutritionalRequirements))\n",
    "    foodVector.append(getNutrientValue(\"ash\", 1, nutrients, values, nutritionalRequirements))\n",
    "    foodVector.append(getNutrientValue(\"fat\", 2, nutrients, values, nutritionalRequirements))\n",
    "    foodVector.append(getNutrientValue(\"fiber\", 3, nutrients, values, nutritionalRequirements))\n",
    "    foodVector.append(getNutrientValue(\"carbohydrates\", 4, nutrients, values, nutritionalRequirements))\n",
    "    foodVector.append(getNutrientValue(\"calories\", 5, nutrients, values, nutritionalRequirements))\n",
    "    foodVector.append(getNutrientValue(\"vitaminb1\", 6, nutrients, values, nutritionalRequirements))\n",
    "    foodVector.append(getNutrientValue(\"vitaminb2\", 7, nutrients, values, nutritionalRequirements))\n",
    "    foodVector.append(getNutrientValue(\"vitaminb3\", 8, nutrients, values, nutritionalRequirements))\n",
    "    foodVector.append(getNutrientValue(\"vitaminb5\", 9, nutrients, values, nutritionalRequirements))\n",
    "    foodVector.append(getNutrientValue(\"vitaminb6\", 10, nutrients, values, nutritionalRequirements))\n",
    "    foodVector.append(getNutrientValue(\"vitaminb7\", 11, nutrients, values, nutritionalRequirements))\n",
    "    foodVector.append(getNutrientValue(\"folate\", 12, nutrients, values, nutritionalRequirements))\n",
    "    foodVector.append(getNutrientValue(\"vitaminc\", 13, nutrients, values, nutritionalRequirements))                      \n",
    "    foodVector.append(getNutrientValue(\"aluminium\", 14, nutrients, values, nutritionalRequirements))\n",
    "    foodVector.append(getNutrientValue(\"calcium\", 15, nutrients, values, nutritionalRequirements))\n",
    "    foodVector.append(getNutrientValue(\"copper\", 16, nutrients, values, nutritionalRequirements))\n",
    "    foodVector.append(getNutrientValue(\"iron\", 17, nutrients, values, nutritionalRequirements))\n",
    "    foodVector.append(getNutrientValue(\"magnesium\", 18, nutrients, values, nutritionalRequirements))\n",
    "    foodVector.append(getNutrientValue(\"manganese\", 19, nutrients, values, nutritionalRequirements))\n",
    "    foodVector.append(getNutrientValue(\"nickel\", 20, nutrients, values, nutritionalRequirements))\n",
    "    foodVector.append(getNutrientValue(\"phosphorus\", 21, nutrients, values, nutritionalRequirements))\n",
    "    foodVector.append(getNutrientValue(\"potassium\", 22, nutrients, values, nutritionalRequirements))\n",
    "    foodVector.append(getNutrientValue(\"sodium\", 23, nutrients, values, nutritionalRequirements))\n",
    "    foodVector.append(getNutrientValue(\"zinc\", 24, nutrients, values, nutritionalRequirements))\n",
    "    \n",
    "    foodVector = list(map(roundOff, foodVector))\n",
    "    \n",
    "    foodVector = np.array(foodVector)\n",
    "    nutritionalRequirements = np.array(nutritionalRequirements)\n",
    "    foodVector = np.divide(foodVector, nutritionalRequirements)\n",
    "    nutritionalRequirements = np.divide(nutritionalRequirements, nutritionalRequirements)\n",
    "    distance = np.linalg.norm(foodVector - nutritionalRequirements)\n",
    "    \n",
    "    return distance"
   ]
  },
  {
   "cell_type": "code",
   "execution_count": 5,
   "id": "95b03f11",
   "metadata": {},
   "outputs": [],
   "source": [
    "def rankFoodProducts(foodProducts, nutritionalRequirements):\n",
    "    options = Options()\n",
    "    options.headless = True\n",
    "    options.add_argument(\"--window-size=1920,1200\")\n",
    "    nutrientList = {}\n",
    "    distance = []\n",
    "    driver = webdriver.Chrome(options=options, executable_path='./chromedriver.exe')\n",
    "    for foodProduct in foodProducts:\n",
    "        url = \"https://spoonacular.com/recipes/\" + str(foodProduct[\"title\"].replace(\" \", \"-\")) + \"-\" + str(foodProduct[\"id\"])\n",
    "        driver.get(url)\n",
    "        nutrient = driver.find_elements_by_class_name('spoonacular-nutrient-name')\n",
    "        value = driver.find_elements_by_class_name('spoonacular-nutrient-value')\n",
    "        nutrients = []\n",
    "        values = []\n",
    "        test = []\n",
    "        for index,elem in enumerate(nutrient):\n",
    "            nutrients.append(elem.text.lower().replace(' ', ''))\n",
    "        for index,elem in enumerate(value):\n",
    "            test.append(elem.text)\n",
    "            text = \"\".join([ c if (c.isnumeric() or c == \".\") else \"\" for c in elem.text ])\n",
    "            values.append(text.lower())\n",
    "\n",
    "        distance.append(calculateDistance(nutrients, values, nutritionalRequirements))\n",
    "    \n",
    "    driver.quit()    \n",
    "    \n",
    "    distance = np.array(distance)\n",
    "    foodProducts = np.array(foodProducts)\n",
    "    inds = distance.argsort()\n",
    "    sortedFoodProducts = list(foodProducts[inds])\n",
    "    \n",
    "    return sortedFoodProducts"
   ]
  }
 ],
 "metadata": {
  "kernelspec": {
   "display_name": "Python 3",
   "language": "python",
   "name": "python3"
  },
  "language_info": {
   "codemirror_mode": {
    "name": "ipython",
    "version": 3
   },
   "file_extension": ".py",
   "mimetype": "text/x-python",
   "name": "python",
   "nbconvert_exporter": "python",
   "pygments_lexer": "ipython3",
   "version": "3.9.7"
  }
 },
 "nbformat": 4,
 "nbformat_minor": 5
}
