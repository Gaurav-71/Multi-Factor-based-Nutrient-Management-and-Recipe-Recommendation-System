{
 "cells": [
  {
   "cell_type": "code",
   "execution_count": 1,
   "id": "fe4c992e",
   "metadata": {},
   "outputs": [],
   "source": [
    "from googleapiclient.discovery import build\n",
    "import os"
   ]
  },
  {
   "cell_type": "code",
   "execution_count": 2,
   "id": "0e463a5a",
   "metadata": {},
   "outputs": [],
   "source": [
    "api_key_file = open(\"./APIKey.txt\", \"r\")\n",
    "api_key = api_key_file.read()"
   ]
  },
  {
   "cell_type": "code",
   "execution_count": 3,
   "id": "dc7f79e1",
   "metadata": {},
   "outputs": [],
   "source": [
    "youtube = build('youtube', 'v3', developerKey=api_key)\n",
    "def getVideos(rankedFoodProducts):\n",
    "    for i in range(0, len(rankedFoodProducts)):\n",
    "        foodProduct = rankedFoodProducts[i]\n",
    "        request = youtube.search().list(part = 'id, snippet', order = \"viewCount\", q = \"Recipes for \" + foodProduct[\"title\"])\n",
    "        response = request.execute()\n",
    "        if(len(response[\"items\"]) > 0):\n",
    "            videoID = response[\"items\"][0][\"id\"][\"videoId\"]\n",
    "            foodProduct[\"videoUrl\"] = \"https://www.youtube.com/watch?v=\" + videoID\n",
    "    \n",
    "        rankedFoodProducts[i] = foodProduct\n",
    "    return rankedFoodProducts"
   ]
  }
 ],
 "metadata": {
  "kernelspec": {
   "display_name": "Python 3",
   "language": "python",
   "name": "python3"
  },
  "language_info": {
   "codemirror_mode": {
    "name": "ipython",
    "version": 3
   },
   "file_extension": ".py",
   "mimetype": "text/x-python",
   "name": "python",
   "nbconvert_exporter": "python",
   "pygments_lexer": "ipython3",
   "version": "3.9.7"
  }
 },
 "nbformat": 4,
 "nbformat_minor": 5
}
