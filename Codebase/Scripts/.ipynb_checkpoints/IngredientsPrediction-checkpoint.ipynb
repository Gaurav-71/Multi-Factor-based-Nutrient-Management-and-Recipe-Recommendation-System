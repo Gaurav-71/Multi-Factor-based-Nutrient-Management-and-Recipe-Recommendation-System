{
 "cells": [
  {
   "cell_type": "code",
   "execution_count": 1,
   "id": "79a31cf8",
   "metadata": {},
   "outputs": [],
   "source": [
    "import numpy as np\n",
    "import pandas as pd\n",
    "from sklearn.cluster import KMeans\n",
    "from scipy.spatial.distance import cdist\n",
    "from scipy.optimize import linear_sum_assignment\n",
    "import matplotlib.pyplot as plt\n",
    "from sklearn.preprocessing import StandardScaler\n",
    "from sklearn import metrics"
   ]
  },
  {
   "cell_type": "code",
   "execution_count": 2,
   "id": "ae6aae27",
   "metadata": {},
   "outputs": [],
   "source": [
    "data = pd.read_csv('../Datasets/ingredients-and-nutritional-values-corrected.csv')\n",
    "ingredientNames = data['Common name']\n",
    "data.drop(['Common name'], axis = 1, inplace = True)"
   ]
  },
  {
   "cell_type": "code",
   "execution_count": 3,
   "id": "299a7d91",
   "metadata": {},
   "outputs": [],
   "source": [
    "#Elbow method\n",
    "\n",
    "\n",
    "# distortions = []\n",
    "# inertias = []\n",
    "# mapping1 = {}\n",
    "# mapping2 = {}\n",
    "# K = range(1, 40)\n",
    "\n",
    "# for k in K:\n",
    "#     # Building and fitting the model\n",
    "#     kmedoids = KMedoids(n_clusters=k, random_state=0).fit(data)\n",
    "#     distortions.append(sum(np.min(cdist(data, kmedoids.cluster_centers_,\n",
    "#                                         'euclidean'), axis=1)) / data.shape[0])\n",
    "#     inertias.append(kmedoids.inertia_)\n",
    " \n",
    "#     mapping1[k] = sum(np.min(cdist(data, kmedoids.cluster_centers_,\n",
    "#                                    'euclidean'), axis=1)) / data.shape[0]\n",
    "#     mapping2[k] = kmedoids.inertia_"
   ]
  },
  {
   "cell_type": "code",
   "execution_count": 4,
   "id": "95738ceb",
   "metadata": {},
   "outputs": [],
   "source": [
    "# plt.plot(K, distortions, 'bx-')\n",
    "# plt.xlabel('Values of K')\n",
    "# plt.ylabel('Distortion')\n",
    "# plt.title('The Elbow Method using Distortion')\n",
    "# plt.show()"
   ]
  },
  {
   "cell_type": "code",
   "execution_count": 5,
   "id": "7c4765ae",
   "metadata": {},
   "outputs": [],
   "source": [
    "def getIngredients(userNutrientInformation = [17.580000000000002, 0.00, 0.00, 8.615, 24.73, 332.0, 1.7, 1.9, 0.020999999999999998, 0.54, 0.18, 10.0, 2.0, 70.0, 3.3150000000000004, 120.0, 0.235, 8.0, 43.0, 0.125, 0.0085, 120.0, 119.0, 7.075, 1.1]):\n",
    "    global data\n",
    "    \n",
    "    def getEvenClusters(X, cluster_size):\n",
    "        n_clusters = int(np.ceil(len(X)/cluster_size))\n",
    "        kmeans = KMeans(n_clusters)\n",
    "        kmeans.fit(X)\n",
    "        centers = kmeans.cluster_centers_\n",
    "        centers = centers.reshape(-1, 1, X.shape[-1]).repeat(cluster_size, 1).reshape(-1, X.shape[-1])\n",
    "        distance_matrix = cdist(X, centers)\n",
    "        clusters = linear_sum_assignment(distance_matrix)[1]//cluster_size\n",
    "        return clusters\n",
    "\n",
    "\n",
    "    def scaleInputs(data):\n",
    "        scaler = StandardScaler()\n",
    "        data = pd.DataFrame(scaler.fit_transform(data))\n",
    "        return data\n",
    "    \n",
    "    if(userNutrientInformation != None):\n",
    "        data.loc[len(data)] = userNutrientInformation\n",
    "\n",
    "    data = scaleInputs(data)\n",
    "    clusterMap = pd.DataFrame()\n",
    "    clusterMap['data_index'] = data.index.values\n",
    "    clusterMap['cluster'] = getEvenClusters(data, 10)\n",
    "    \n",
    "    clusterNumber = clusterMap.iloc[len(clusterMap) - 1]['cluster']\n",
    "    ingredientRows = clusterMap[clusterMap['cluster'] == clusterNumber]['data_index']\n",
    "    ingredientRows = ingredientRows[:len(ingredientRows) - 1]\n",
    "    ingredients = ingredientNames.iloc[list(ingredientRows.values)]\n",
    "    \n",
    "#     unique = np.unique(list(clusterMap['cluster']))\n",
    "#     for cluster in unique:\n",
    "#         subset = clusterMap[clusterMap['cluster'] == cluster]\n",
    "#         print(len(subset))\n",
    "        \n",
    "    return ingredients.values"
   ]
  },
  {
   "cell_type": "code",
   "execution_count": null,
   "id": "acaf381a",
   "metadata": {},
   "outputs": [],
   "source": []
  },
  {
   "cell_type": "code",
   "execution_count": null,
   "id": "876c651a",
   "metadata": {},
   "outputs": [],
   "source": []
  }
 ],
 "metadata": {
  "kernelspec": {
   "display_name": "Python 3",
   "language": "python",
   "name": "python3"
  },
  "language_info": {
   "codemirror_mode": {
    "name": "ipython",
    "version": 3
   },
   "file_extension": ".py",
   "mimetype": "text/x-python",
   "name": "python",
   "nbconvert_exporter": "python",
   "pygments_lexer": "ipython3",
   "version": "3.9.7"
  }
 },
 "nbformat": 4,
 "nbformat_minor": 5
}
