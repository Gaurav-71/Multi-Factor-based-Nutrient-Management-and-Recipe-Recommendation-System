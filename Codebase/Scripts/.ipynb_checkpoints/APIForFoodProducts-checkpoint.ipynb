{
 "cells": [
  {
   "cell_type": "code",
   "execution_count": 1,
   "id": "b7bfdce3",
   "metadata": {},
   "outputs": [],
   "source": [
    "import requests"
   ]
  },
  {
   "cell_type": "code",
   "execution_count": 2,
   "id": "8d13b272",
   "metadata": {},
   "outputs": [],
   "source": [
    "# Zestful\n",
    "def getZest(ingredients):\n",
    "    url = \"https://zestful.p.rapidapi.com/parseIngredients\"\n",
    "\n",
    "    payload = {\"ingredients\": ingredients}\n",
    "    headers = {\n",
    "        \"content-type\": \"application/json\",\n",
    "        \"X-RapidAPI-Host\": \"zestful.p.rapidapi.com\",\n",
    "        \"X-RapidAPI-Key\": \"c68b375d1bmsh82341a2bac8438dp1411ffjsncab9ef4d6d9e\"\n",
    "    }\n",
    "\n",
    "    response = requests.request(\"POST\", url, json=payload, headers=headers)\n",
    "\n",
    "    return(response.text)"
   ]
  },
  {
   "cell_type": "code",
   "execution_count": 3,
   "id": "2b4a0025",
   "metadata": {},
   "outputs": [],
   "source": [
    "#Edamam\n",
    "def getEdamam(ingredients):\n",
    "    url = \"https://edamam-recipe-search.p.rapidapi.com/search\"\n",
    "\n",
    "    querystring = {\"q\": ingredients}\n",
    "\n",
    "    headers = {\n",
    "        \"X-RapidAPI-Host\": \"edamam-recipe-search.p.rapidapi.com\",\n",
    "        \"X-RapidAPI-Key\": \"c68b375d1bmsh82341a2bac8438dp1411ffjsncab9ef4d6d9e\"\n",
    "    }\n",
    "\n",
    "    response = requests.request(\"GET\", url, headers=headers, params=querystring)\n",
    "\n",
    "    print(response.text)"
   ]
  },
  {
   "cell_type": "code",
   "execution_count": 4,
   "id": "2d4676fa",
   "metadata": {},
   "outputs": [],
   "source": [
    "#spoonacular\n",
    "def getSpoonacular(ingredients):\n",
    "    url = \"https://api.spoonacular.com/recipes/findByIngredients\"\n",
    "    \n",
    "    querystring = { \"apiKey\": \"cc56bcef6fe84e268a50962283d64349\", \"ingredients\": ingredients, \"number\": \"10\"}\n",
    "\n",
    "    headers = {\n",
    "        \"content-type\": \"application/json\",\n",
    "    }\n",
    "\n",
    "    response = requests.request(\"GET\", url, headers=headers, params=querystring)\n",
    "\n",
    "    return(response.text)"
   ]
  }
 ],
 "metadata": {
  "kernelspec": {
   "display_name": "Python 3",
   "language": "python",
   "name": "python3"
  },
  "language_info": {
   "codemirror_mode": {
    "name": "ipython",
    "version": 3
   },
   "file_extension": ".py",
   "mimetype": "text/x-python",
   "name": "python",
   "nbconvert_exporter": "python",
   "pygments_lexer": "ipython3",
   "version": "3.9.7"
  }
 },
 "nbformat": 4,
 "nbformat_minor": 5
}
