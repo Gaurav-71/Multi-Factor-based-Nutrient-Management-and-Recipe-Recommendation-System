{
 "cells": [
  {
   "cell_type": "code",
   "execution_count": 1,
   "id": "b7bfdce3",
   "metadata": {},
   "outputs": [],
   "source": [
    "import requests"
   ]
  },
  {
   "cell_type": "code",
   "execution_count": 2,
   "id": "8d13b272",
   "metadata": {},
   "outputs": [],
   "source": [
    "# Zestful\n",
    "def getZest(ingredients):\n",
    "    url = \"https://zestful.p.rapidapi.com/parseIngredients\"\n",
    "\n",
    "    payload = {\"ingredients\": ingredients}\n",
    "    headers = {\n",
    "        \"content-type\": \"application/json\",\n",
    "        \"X-RapidAPI-Host\": \"zestful.p.rapidapi.com\",\n",
    "        \"X-RapidAPI-Key\": \"c68b375d1bmsh82341a2bac8438dp1411ffjsncab9ef4d6d9e\"\n",
    "    }\n",
    "\n",
    "    response = requests.request(\"POST\", url, json=payload, headers=headers)\n",
    "\n",
    "    return(response.text)"
   ]
  },
  {
   "cell_type": "code",
   "execution_count": 3,
   "id": "2b4a0025",
   "metadata": {},
   "outputs": [],
   "source": [
    "#Edamam\n",
    "def getEdamam(ingredients):\n",
    "    url = \"https://edamam-recipe-search.p.rapidapi.com/search\"\n",
    "\n",
    "    querystring = {\"q\": ingredients}\n",
    "\n",
    "    headers = {\n",
    "        \"X-RapidAPI-Host\": \"edamam-recipe-search.p.rapidapi.com\",\n",
    "        \"X-RapidAPI-Key\": \"c68b375d1bmsh82341a2bac8438dp1411ffjsncab9ef4d6d9e\"\n",
    "    }\n",
    "\n",
    "    response = requests.request(\"GET\", url, headers=headers, params=querystring)\n",
    "\n",
    "    print(response.text)"
   ]
  },
  {
   "cell_type": "code",
   "execution_count": 4,
   "id": "2d4676fa",
   "metadata": {},
   "outputs": [],
   "source": [
    "#spoonacular\n",
    "def getSpoonacular(ingredients):\n",
    "    url = \"https://api.spoonacular.com/recipes/findByIngredients\"\n",
    "    \n",
    "    querystring = { \"apiKey\": \"cc56bcef6fe84e268a50962283d64349\", \"ingredients\": ingredients, \"number\": \"10\"}\n",
    "\n",
    "    headers = {\n",
    "        \"content-type\": \"application/json\",\n",
    "    }\n",
    "\n",
    "    response = requests.request(\"GET\", url, headers=headers, params=querystring)\n",
    "\n",
    "    return(response.text)"
   ]
  },
  {
   "cell_type": "code",
   "execution_count": 1,
   "id": "3392c50c",
   "metadata": {},
   "outputs": [
    {
     "ename": "SyntaxError",
     "evalue": "unexpected EOF while parsing (2818715394.py, line 13)",
     "output_type": "error",
     "traceback": [
      "\u001b[1;36m  Input \u001b[1;32mIn [1]\u001b[1;36m\u001b[0m\n\u001b[1;33m    return(response.text\u001b[0m\n\u001b[1;37m                        ^\u001b[0m\n\u001b[1;31mSyntaxError\u001b[0m\u001b[1;31m:\u001b[0m unexpected EOF while parsing\n"
     ]
    }
   ],
   "source": [
    "#spoonacular for Protein\n",
    "def getSpoonacular(ingredients):\n",
    "    url = \"https://api.spoonacular.com/recipes/findByIngredients\"\n",
    "    \n",
    "    querystring = { \"apiKey\": \"cc56bcef6fe84e268a50962283d64349\", \"maxProtein\": \"30\", \"minProtein\": \"15\"}\n",
    "\n",
    "    headers = {\n",
    "        \"content-type\": \"application/json\",\n",
    "    }\n",
    "\n",
    "    response = requests.request(\"GET\", url, headers=headers, params=querystring)\n",
    "\n",
    "    return(response.text)"
   ]
  },
  {
   "cell_type": "code",
   "execution_count": null,
   "id": "345d524a",
   "metadata": {},
   "outputs": [],
   "source": [
    "#spoonacular for Protein\n",
    "def getSpoonacularForProtein():\n",
    "    url = \"https://api.spoonacular.com/recipes/findByNutrients\"\n",
    "    \n",
    "    querystring = { \"apiKey\": \"cc56bcef6fe84e268a50962283d64349\", \"maxProtein\": \"30\", \"minProtein\": \"15\", \"number\": \"10\"}\n",
    "\n",
    "    headers = {\n",
    "        \"content-type\": \"application/json\",\n",
    "    }\n",
    "\n",
    "    response = requests.request(\"GET\", url, headers=headers, params=querystring)\n",
    "    return(response.text)"
   ]
  },
  {
   "cell_type": "code",
   "execution_count": null,
   "id": "c8707885",
   "metadata": {},
   "outputs": [],
   "source": [
    "#spoonacular for Carbs\n",
    "def getSpoonacularForCarbs():\n",
    "    url = \"https://api.spoonacular.com/recipes/findByNutrients\"\n",
    "    \n",
    "    querystring = { \"apiKey\": \"cc56bcef6fe84e268a50962283d64349\", \"minCarbs\": \"50\", \"maxCarbs\": \"100\", \"number\": \"10\"}\n",
    "\n",
    "    headers = {\n",
    "        \"content-type\": \"application/json\",\n",
    "    }\n",
    "\n",
    "    response = requests.request(\"GET\", url, headers=headers, params=querystring)\n",
    "\n",
    "    return(response.text)"
   ]
  },
  {
   "cell_type": "code",
   "execution_count": null,
   "id": "50198a29",
   "metadata": {},
   "outputs": [],
   "source": [
    "#spoonacular for Calories\n",
    "def getSpoonacularForCalories():\n",
    "    url = \"https://api.spoonacular.com/recipes/findByNutrients\"\n",
    "    \n",
    "    querystring = { \"apiKey\": \"cc56bcef6fe84e268a50962283d64349\", \"minCalories\": \"300\", \"maxCalories\": \"700\", \"number\": \"10\"}\n",
    "\n",
    "    headers = {\n",
    "        \"content-type\": \"application/json\",\n",
    "    }\n",
    "\n",
    "    response = requests.request(\"GET\", url, headers=headers, params=querystring)\n",
    "\n",
    "    return(response.text)"
   ]
  },
  {
   "cell_type": "code",
   "execution_count": null,
   "id": "b64c3258",
   "metadata": {},
   "outputs": [],
   "source": [
    "#spoonacular for Fat\n",
    "def getSpoonacularForFat():\n",
    "    url = \"https://api.spoonacular.com/recipes/findByNutrients\"\n",
    "    \n",
    "    querystring = { \"apiKey\": \"cc56bcef6fe84e268a50962283d64349\", \"minFat\": \"5\", \"maxFat\": \"8\"}\n",
    "\n",
    "    headers = {\n",
    "        \"content-type\": \"application/json\",\n",
    "    }\n",
    "\n",
    "    response = requests.request(\"GET\", url, headers=headers, params=querystring)\n",
    "\n",
    "    return(response.text)"
   ]
  }
 ],
 "metadata": {
  "kernelspec": {
   "display_name": "Python 3",
   "language": "python",
   "name": "python3"
  },
  "language_info": {
   "codemirror_mode": {
    "name": "ipython",
    "version": 3
   },
   "file_extension": ".py",
   "mimetype": "text/x-python",
   "name": "python",
   "nbconvert_exporter": "python",
   "pygments_lexer": "ipython3",
   "version": "3.9.7"
  }
 },
 "nbformat": 4,
 "nbformat_minor": 5
}
