{
 "cells": [
  {
   "cell_type": "code",
   "execution_count": 1,
   "id": "67192d33",
   "metadata": {},
   "outputs": [],
   "source": [
    "import numpy as np\n",
    "import pandas as pd\n",
    "from scipy.spatial.distance import cdist"
   ]
  },
  {
   "cell_type": "code",
   "execution_count": null,
   "id": "55610797",
   "metadata": {},
   "outputs": [],
   "source": [
    "MEN = pd.read_excel('../Datasets/men.xlsx')\n",
    "WOMEN = pd.read_excel('../Datasets/women.xlsx')"
   ]
  },
  {
   "cell_type": "code",
   "execution_count": null,
   "id": "ebfb1288",
   "metadata": {},
   "outputs": [],
   "source": [
    "#Returns nutritional requirements for a given user (Mock data for testing)\n",
    "def getNutritionalRequirements(user = pd.Series([\"19-24\",23.98,2.995,0.38,8.675,24.69,250,1.3,1.5,0.017,0.94,0.185,10,2,50,1.545,120,0.075,12,27,0.105,0.0005,120,289,5.235,1.5]), gender = 'male'):\n",
    "    def roundOff(n):\n",
    "        n = round(n, ndigits = 4)\n",
    "        return n\n",
    "    \n",
    "    \n",
    "    def forceZero(n):\n",
    "        if(n < 0):\n",
    "            n = 0\n",
    "        return n\n",
    "    \n",
    "    def invert(n):\n",
    "        return -1*n\n",
    "\n",
    "    if(gender == 'male'):\n",
    "        data = MEN\n",
    "    else:\n",
    "        data = WOMEN\n",
    "    \n",
    "    distance = None\n",
    "    for index, row in data.iterrows():\n",
    "        if(row['AGE'] == user[0]):\n",
    "            userNutritionalValues = user.values[1:]\n",
    "            rowNutritionalValues = row.values[1:]\n",
    "            distance = userNutritionalValues - rowNutritionalValues\n",
    "            distance = list(map(invert, distance))\n",
    "            distance = rowNutritionalValues + distance\n",
    "            distance = list(map(forceZero, distance))\n",
    "            distance = list(map(roundOff, distance))\n",
    "    return distance"
   ]
  },
  {
   "cell_type": "code",
   "execution_count": null,
   "id": "bf8a9da9",
   "metadata": {},
   "outputs": [],
   "source": []
  }
 ],
 "metadata": {
  "kernelspec": {
   "display_name": "Python 3",
   "language": "python",
   "name": "python3"
  },
  "language_info": {
   "codemirror_mode": {
    "name": "ipython",
    "version": 3
   },
   "file_extension": ".py",
   "mimetype": "text/x-python",
   "name": "python",
   "nbconvert_exporter": "python",
   "pygments_lexer": "ipython3",
   "version": "3.9.7"
  }
 },
 "nbformat": 4,
 "nbformat_minor": 5
}
