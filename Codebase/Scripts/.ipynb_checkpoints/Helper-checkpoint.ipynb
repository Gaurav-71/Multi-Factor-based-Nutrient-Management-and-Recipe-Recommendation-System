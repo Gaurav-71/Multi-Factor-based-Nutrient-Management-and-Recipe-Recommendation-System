{
 "cells": [
  {
   "cell_type": "code",
   "execution_count": 1,
   "id": "fd1b09d1",
   "metadata": {},
   "outputs": [],
   "source": [
    "import numpy as np\n",
    "import pandas as pd"
   ]
  },
  {
   "cell_type": "code",
   "execution_count": null,
   "id": "e386c735",
   "metadata": {},
   "outputs": [],
   "source": [
    "ingredientsAndNutritionalValues = pd.read_excel('../Datasets/ingredients-and-nutritional-values.xlsx')"
   ]
  },
  {
   "cell_type": "code",
   "execution_count": null,
   "id": "33fc0e4a",
   "metadata": {},
   "outputs": [],
   "source": [
    "def splitInput(name):\n",
    "    split = name.split(\"-\")[0].strip()\n",
    "    return split\n",
    "\n",
    "headers = ingredientsAndNutritionalValues.columns.values.tolist()\n",
    "headers = headers[:1] + headers[2:]\n",
    "corrected_df = pd.DataFrame(columns = headers)\n",
    "ingredientsAndNutritionalValues['Common name'] = ingredientsAndNutritionalValues['Common name'].apply(splitInput)\n",
    "unique = np.unique(ingredientsAndNutritionalValues.iloc[:,0:1])\n",
    "for ingredient in unique:\n",
    "    rows = ingredientsAndNutritionalValues.loc[ingredientsAndNutritionalValues['Common name'] == ingredient]\n",
    "    mean = rows.mean()\n",
    "    mean = list(np.around(np.array(mean),3))\n",
    "    insertingRow = [ingredient] + mean \n",
    "    if(len(insertingRow) == 26):\n",
    "        corrected_df.loc[len(corrected_df)] = insertingRow"
   ]
  },
  {
   "cell_type": "code",
   "execution_count": null,
   "id": "00947fc2",
   "metadata": {},
   "outputs": [],
   "source": [
    "corrected_df.to_csv('../Datasets/ingredients-and-nutritional-values-corrected.csv', index = False)"
   ]
  },
  {
   "cell_type": "code",
   "execution_count": null,
   "id": "7d8f6ccc",
   "metadata": {},
   "outputs": [],
   "source": []
  }
 ],
 "metadata": {
  "kernelspec": {
   "display_name": "Python 3",
   "language": "python",
   "name": "python3"
  },
  "language_info": {
   "codemirror_mode": {
    "name": "ipython",
    "version": 3
   },
   "file_extension": ".py",
   "mimetype": "text/x-python",
   "name": "python",
   "nbconvert_exporter": "python",
   "pygments_lexer": "ipython3",
   "version": "3.9.7"
  }
 },
 "nbformat": 4,
 "nbformat_minor": 5
}
