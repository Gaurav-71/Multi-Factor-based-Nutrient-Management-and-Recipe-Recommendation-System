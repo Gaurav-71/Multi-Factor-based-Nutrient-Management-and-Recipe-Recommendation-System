{
 "cells": [
  {
   "cell_type": "code",
   "execution_count": 1,
   "id": "2073d501",
   "metadata": {},
   "outputs": [],
   "source": [
    "#Libraries\n",
    "import numpy as np\n",
    "import pandas as pd\n",
    "import json"
   ]
  },
  {
   "cell_type": "code",
   "execution_count": 2,
   "id": "3c36b55a",
   "metadata": {
    "scrolled": true
   },
   "outputs": [
    {
     "name": "stdout",
     "output_type": "stream",
     "text": [
      "importing Jupyter notebook from RequiredNutrients.ipynb\n",
      "importing Jupyter notebook from IngredientsPrediction.ipynb\n",
      "importing Jupyter notebook from APIForFoodProducts.ipynb\n",
      "importing Jupyter notebook from ParseAPIResponse.ipynb\n",
      "importing Jupyter notebook from RankFoodProducts.ipynb\n",
      "importing Jupyter notebook from YouTubeClient.ipynb\n"
     ]
    }
   ],
   "source": [
    "#Processor Files\n",
    "import import_ipynb\n",
    "import RequiredNutrients\n",
    "import IngredientsPrediction\n",
    "import APIForFoodProducts\n",
    "import ParseAPIResponse\n",
    "import RankFoodProducts\n",
    "import YouTubeClient"
   ]
  },
  {
   "cell_type": "code",
   "execution_count": 3,
   "id": "6bdee5dc",
   "metadata": {},
   "outputs": [
    {
     "name": "stdout",
     "output_type": "stream",
     "text": [
      "['calories', 'fat', 'saturatedfat', 'carbohydrates', 'sugar', 'cholesterol', 'sodium', 'protein', 'vitaminc', 'vitamink', 'fiber', 'manganese', 'potassium', 'folate', 'copper', 'vitamine', 'vitamina', 'vitaminb6', 'magnesium', 'calcium', 'vitaminb2', 'phosphorus', 'vitaminb1', 'iron', 'vitaminb5', 'vitaminb3', 'zinc', 'selenium']\n",
      "['calories', 'fat', 'saturatedfat', 'carbohydrates', 'sugar', 'cholesterol', 'sodium', 'protein', 'vitamind', 'selenium', 'vitaminb12', 'vitaminb6', 'phosphorus', 'manganese', 'potassium', 'calcium', 'magnesium', 'vitamine', 'vitaminb5', 'iron', 'copper', 'zinc', 'vitaminb2', 'vitaminb1', 'vitaminc', 'vitamina', 'folate', 'vitaminb3', 'vitamink']\n",
      "['calories', 'fat', 'saturatedfat', 'carbohydrates', 'sugar', 'cholesterol', 'sodium', 'caffeine', 'protein', 'vitaminc', 'manganese', 'folate', 'vitamina', 'potassium', 'fiber', 'iron', 'magnesium', 'copper', 'vitaminb2', 'vitaminb6', 'vitaminb1', 'vitamine', 'vitamink', 'phosphorus', 'vitaminb3', 'vitaminb5', 'calcium']\n",
      "['calories', 'fat', 'saturatedfat', 'carbohydrates', 'sugar', 'cholesterol', 'sodium', 'protein', 'vitaminc', 'vitamina', 'manganese', 'folate', 'vitamink', 'fiber', 'potassium', 'vitamine', 'vitaminb6', 'copper', 'vitaminb3', 'magnesium', 'vitaminb5', 'vitaminb1', 'vitaminb2', 'phosphorus', 'iron', 'calcium', 'zinc', 'selenium']\n",
      "['calories', 'fat', 'saturatedfat', 'carbohydrates', 'sugar', 'cholesterol', 'sodium', 'protein', 'vitaminc', 'vitamink', 'calcium', 'vitamina', 'phosphorus', 'potassium', 'folate', 'vitaminb2', 'fiber', 'manganese', 'vitamine', 'magnesium', 'vitaminb12', 'vitaminb6', 'copper', 'vitaminb5', 'zinc', 'vitaminb1', 'selenium', 'vitaminb3', 'iron']\n",
      "['calories', 'fat', 'saturatedfat', 'carbohydrates', 'sugar', 'cholesterol', 'sodium', 'protein', 'vitaminc', 'fiber', 'folate', 'potassium', 'vitaminb1', 'vitamina', 'calcium', 'vitaminb2', 'vitaminb6', 'manganese', 'copper', 'magnesium', 'vitaminb5', 'phosphorus', 'iron', 'vitamink', 'vitaminb3', 'zinc', 'vitamine', 'selenium']\n",
      "['calories', 'fat', 'saturatedfat', 'carbohydrates', 'sugar', 'cholesterol', 'sodium', 'protein', 'vitaminc', 'manganese', 'fiber', 'vitamina', 'phosphorus', 'folate', 'selenium', 'magnesium', 'potassium', 'copper', 'vitaminb1', 'vitaminb6', 'vitamine', 'iron', 'vitaminb3', 'calcium', 'vitamink', 'zinc', 'vitaminb2', 'vitaminb5', 'vitamind']\n",
      "['calories', 'fat', 'saturatedfat', 'carbohydrates', 'sugar', 'cholesterol', 'sodium', 'protein', 'vitaminc', 'manganese', 'vitaminb2', 'selenium', 'folate', 'vitaminb1', 'phosphorus', 'fiber', 'calcium', 'iron', 'potassium', 'vitaminb5', 'vitamina', 'vitamind', 'vitaminb12', 'vitaminb3', 'vitaminb6', 'magnesium', 'copper', 'zinc', 'vitamine', 'vitamink']\n",
      "['calories', 'fat', 'saturatedfat', 'carbohydrates', 'sugar', 'cholesterol', 'sodium', 'protein', 'vitaminc', 'manganese', 'fiber', 'vitaminb6', 'folate', 'potassium', 'vitamina', 'copper', 'magnesium', 'vitamink', 'vitaminb1', 'vitaminb3', 'vitaminb2', 'vitaminb5', 'vitamine', 'iron', 'phosphorus', 'calcium', 'zinc']\n",
      "['calories', 'fat', 'saturatedfat', 'carbohydrates', 'sugar', 'cholesterol', 'sodium', 'protein', 'vitaminb3', 'selenium', 'vitaminb6', 'phosphorus', 'vitaminb5', 'zinc', 'vitaminb2', 'potassium', 'vitaminc', 'magnesium', 'iron', 'vitamink', 'manganese', 'vitaminb1', 'vitaminb12', 'vitamina', 'folate', 'vitamine', 'copper', 'fiber', 'calcium', 'vitamind']\n"
     ]
    },
    {
     "ename": "NameError",
     "evalue": "name 'numpy' is not defined",
     "output_type": "error",
     "traceback": [
      "\u001b[1;31m---------------------------------------------------------------------------\u001b[0m",
      "\u001b[1;31mNameError\u001b[0m                                 Traceback (most recent call last)",
      "Input \u001b[1;32mIn [3]\u001b[0m, in \u001b[0;36m<cell line: 8>\u001b[1;34m()\u001b[0m\n\u001b[0;32m      6\u001b[0m foodProducts \u001b[38;5;241m=\u001b[39m APIForFoodProducts\u001b[38;5;241m.\u001b[39mgetSpoonacular(ingredients)\n\u001b[0;32m      7\u001b[0m foodList \u001b[38;5;241m=\u001b[39m ParseAPIResponse\u001b[38;5;241m.\u001b[39mparseAPIResponse(json\u001b[38;5;241m.\u001b[39mloads(foodProducts))\n\u001b[1;32m----> 8\u001b[0m rankedFoodList \u001b[38;5;241m=\u001b[39m \u001b[43mRankFoodProducts\u001b[49m\u001b[38;5;241;43m.\u001b[39;49m\u001b[43mrankFoodProducts\u001b[49m\u001b[43m(\u001b[49m\u001b[43mfoodList\u001b[49m\u001b[43m,\u001b[49m\u001b[43m \u001b[49m\u001b[43mnutritionalRequirements\u001b[49m\u001b[43m)\u001b[49m\n\u001b[0;32m      9\u001b[0m videoLinks \u001b[38;5;241m=\u001b[39m YouTubeClient\u001b[38;5;241m.\u001b[39mgetVideos(rankedFoodList)\n\u001b[0;32m     11\u001b[0m \u001b[38;5;28mprint\u001b[39m(videoLinks)\n",
      "File \u001b[1;32m<string>:26\u001b[0m, in \u001b[0;36mrankFoodProducts\u001b[1;34m(foodProducts, nutritionalRequirements)\u001b[0m\n",
      "\u001b[1;31mNameError\u001b[0m: name 'numpy' is not defined"
     ]
    }
   ],
   "source": [
    "nutritionalRequirements = RequiredNutrients.getNutritionalRequirements()\n",
    "ingredients = list(IngredientsPrediction.getIngredients(nutritionalRequirements))\n",
    "while(len(ingredients) < 5):\n",
    "    ingredients = list(IngredientsPrediction.getIngredients(nutritionalRequirements))\n",
    "ingredients = \",+\".join(ingredients)\n",
    "foodProducts = APIForFoodProducts.getSpoonacular(ingredients)\n",
    "foodList = ParseAPIResponse.parseAPIResponse(json.loads(foodProducts))\n",
    "rankedFoodList = RankFoodProducts.rankFoodProducts(foodList, nutritionalRequirements)\n",
    "videoLinks = YouTubeClient.getVideos(rankedFoodList)\n",
    "\n",
    "print(videoLinks)"
   ]
  },
  {
   "cell_type": "code",
   "execution_count": null,
   "id": "620537ae",
   "metadata": {},
   "outputs": [],
   "source": []
  }
 ],
 "metadata": {
  "kernelspec": {
   "display_name": "Python 3",
   "language": "python",
   "name": "python3"
  },
  "language_info": {
   "codemirror_mode": {
    "name": "ipython",
    "version": 3
   },
   "file_extension": ".py",
   "mimetype": "text/x-python",
   "name": "python",
   "nbconvert_exporter": "python",
   "pygments_lexer": "ipython3",
   "version": "3.9.7"
  }
 },
 "nbformat": 4,
 "nbformat_minor": 5
}
